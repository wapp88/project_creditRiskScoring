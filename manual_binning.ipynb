{
 "cells": [
  {
   "cell_type": "code",
   "execution_count": 21,
   "metadata": {},
   "outputs": [
    {
     "name": "stdout",
     "output_type": "stream",
     "text": [
      "numpy version :  1.20.1\n",
      "pandas version :  1.2.4\n",
      "seaborn version :  0.11.1\n"
     ]
    }
   ],
   "source": [
    "import warnings\n",
    "warnings.filterwarnings('ignore')\n",
    "\n",
    "import numpy as np\n",
    "import pandas as pd\n",
    "import seaborn as sns\n",
    "import matplotlib.pyplot as plt\n",
    "\n",
    "%matplotlib inline\n",
    "\n",
    "print('numpy version : ',np.__version__)\n",
    "print('pandas version : ',pd.__version__)\n",
    "print('seaborn version : ',sns.__version__)"
   ]
  },
  {
   "cell_type": "code",
   "execution_count": 22,
   "metadata": {},
   "outputs": [],
   "source": [
    "df = pd.read_csv('credit-g_csv.csv')"
   ]
  },
  {
   "cell_type": "code",
   "execution_count": 23,
   "metadata": {},
   "outputs": [],
   "source": [
    "def segment(x):\n",
    "    if x['class'] == 'good':\n",
    "        class_encoded = '0'\n",
    "    else:\n",
    "        class_encoded = '1'\n",
    "    return class_encoded\n",
    "\n",
    "df['class'] = df.apply(lambda x: segment(x), axis=1)"
   ]
  },
  {
   "cell_type": "code",
   "execution_count": 24,
   "metadata": {},
   "outputs": [],
   "source": [
    "df[\"class\"] = pd.to_numeric(df[\"class\"], downcast=\"float\")"
   ]
  },
  {
   "cell_type": "code",
   "execution_count": 25,
   "metadata": {},
   "outputs": [],
   "source": [
    "def segment(x):\n",
    "    if x['credit_amount'] >= 250 and x['credit_amount'] <= 3500:\n",
    "        credit_amount_segment = '(250-3500]'\n",
    "    elif x['credit_amount'] > 3500 and x['credit_amount'] <= 18500:\n",
    "        credit_amount_segment = '(3500-18500]'\n",
    "    else:\n",
    "        credit_amount_segment = 'XXX'\n",
    "    return credit_amount_segment\n",
    "\n",
    "df['credit_amount'] = df.apply(lambda x: segment(x), axis=1)"
   ]
  },
  {
   "cell_type": "code",
   "execution_count": 26,
   "metadata": {},
   "outputs": [],
   "source": [
    "def calc_iv(df, feature, target, pr=False):\n",
    "\n",
    "    d1 = df.groupby(by=feature, as_index=True)\n",
    "    data = pd.DataFrame()\n",
    "\n",
    "    data['all'] = d1[target].count()\n",
    "    data['bad'] = d1[target].sum()\n",
    "    data['good'] = data['all']-data['bad']\n",
    "    data['share'] = data['all'] / data['all'].sum()\n",
    "    data['bad_rate'] = d1[target].mean()\n",
    "    data['d_g'] = (data['all'] - data['bad']) / (data['all'] - data['bad']).sum()\n",
    "    data['d_b'] = data['bad'] / data['bad'].sum()\n",
    "    data['woe'] = np.log(data['d_g'] / data['d_b'])\n",
    "    data = data.replace({'woe': {np.inf: 0, -np.inf: 0}})\n",
    "    data['iv'] = data['woe'] * (data['d_g'] - data['d_b'])\n",
    "\n",
    "    data.insert(0, 'variable', feature)\n",
    "    data.insert(1, 'value', data.index)\n",
    "    data.index = range(len(data))\n",
    "\n",
    "    iv = data['iv'].sum()\n",
    "\n",
    "    if pr:\n",
    "        print(data)\n",
    "        print('IV = %s' % iv)\n",
    "\n",
    "    return iv, data"
   ]
  },
  {
   "cell_type": "code",
   "execution_count": 27,
   "metadata": {},
   "outputs": [],
   "source": [
    "iv, data = calc_iv(df, 'credit_amount', 'class')"
   ]
  },
  {
   "cell_type": "code",
   "execution_count": 28,
   "metadata": {},
   "outputs": [
    {
     "data": {
      "text/plain": [
       "0.044361200999330636"
      ]
     },
     "execution_count": 28,
     "metadata": {},
     "output_type": "execute_result"
    }
   ],
   "source": [
    "iv"
   ]
  },
  {
   "cell_type": "code",
   "execution_count": 29,
   "metadata": {},
   "outputs": [
    {
     "data": {
      "text/html": [
       "<div>\n",
       "<style scoped>\n",
       "    .dataframe tbody tr th:only-of-type {\n",
       "        vertical-align: middle;\n",
       "    }\n",
       "\n",
       "    .dataframe tbody tr th {\n",
       "        vertical-align: top;\n",
       "    }\n",
       "\n",
       "    .dataframe thead th {\n",
       "        text-align: right;\n",
       "    }\n",
       "</style>\n",
       "<table border=\"1\" class=\"dataframe\">\n",
       "  <thead>\n",
       "    <tr style=\"text-align: right;\">\n",
       "      <th></th>\n",
       "      <th>variable</th>\n",
       "      <th>value</th>\n",
       "      <th>all</th>\n",
       "      <th>bad</th>\n",
       "      <th>good</th>\n",
       "      <th>share</th>\n",
       "      <th>bad_rate</th>\n",
       "      <th>d_g</th>\n",
       "      <th>d_b</th>\n",
       "      <th>woe</th>\n",
       "      <th>iv</th>\n",
       "    </tr>\n",
       "  </thead>\n",
       "  <tbody>\n",
       "    <tr>\n",
       "      <th>0</th>\n",
       "      <td>credit_amount</td>\n",
       "      <td>(250-3500]</td>\n",
       "      <td>686</td>\n",
       "      <td>185.0</td>\n",
       "      <td>501.0</td>\n",
       "      <td>0.686</td>\n",
       "      <td>0.269679</td>\n",
       "      <td>0.715714</td>\n",
       "      <td>0.616667</td>\n",
       "      <td>0.148952</td>\n",
       "      <td>0.014753</td>\n",
       "    </tr>\n",
       "    <tr>\n",
       "      <th>1</th>\n",
       "      <td>credit_amount</td>\n",
       "      <td>(3500-18500]</td>\n",
       "      <td>314</td>\n",
       "      <td>115.0</td>\n",
       "      <td>199.0</td>\n",
       "      <td>0.314</td>\n",
       "      <td>0.366242</td>\n",
       "      <td>0.284286</td>\n",
       "      <td>0.383333</td>\n",
       "      <td>-0.298925</td>\n",
       "      <td>0.029608</td>\n",
       "    </tr>\n",
       "  </tbody>\n",
       "</table>\n",
       "</div>"
      ],
      "text/plain": [
       "        variable         value  all    bad   good  share  bad_rate       d_g  \\\n",
       "0  credit_amount    (250-3500]  686  185.0  501.0  0.686  0.269679  0.715714   \n",
       "1  credit_amount  (3500-18500]  314  115.0  199.0  0.314  0.366242  0.284286   \n",
       "\n",
       "        d_b       woe        iv  \n",
       "0  0.616667  0.148952  0.014753  \n",
       "1  0.383333 -0.298925  0.029608  "
      ]
     },
     "execution_count": 29,
     "metadata": {},
     "output_type": "execute_result"
    }
   ],
   "source": [
    "data"
   ]
  },
  {
   "cell_type": "code",
   "execution_count": null,
   "metadata": {},
   "outputs": [],
   "source": []
  }
 ],
 "metadata": {
  "kernelspec": {
   "display_name": "Python 3 (ipykernel)",
   "language": "python",
   "name": "python3"
  },
  "language_info": {
   "codemirror_mode": {
    "name": "ipython",
    "version": 3
   },
   "file_extension": ".py",
   "mimetype": "text/x-python",
   "name": "python",
   "nbconvert_exporter": "python",
   "pygments_lexer": "ipython3",
   "version": "3.7.3"
  }
 },
 "nbformat": 4,
 "nbformat_minor": 5
}
